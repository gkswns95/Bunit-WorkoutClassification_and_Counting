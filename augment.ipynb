{
 "cells": [
  {
   "cell_type": "code",
   "execution_count": 4,
   "metadata": {},
   "outputs": [],
   "source": [
    "import os\n",
    "import random\n",
    "import shutil\n",
    "import pandas as pd\n",
    "from itertools import permutations\n",
    "import matplotlib.pyplot as plt\n",
    "import numpy as np\n",
    "from tqdm import tqdm"
   ]
  },
  {
   "cell_type": "markdown",
   "metadata": {},
   "source": [
    "# Utils"
   ]
  },
  {
   "cell_type": "code",
   "execution_count": 5,
   "metadata": {},
   "outputs": [],
   "source": [
    "def fun(file):\n",
    "    if 'txt' in file:\n",
    "        return True  \n",
    "\n",
    "def getfiles(dir_path):\n",
    "    files = os.listdir(dir_path)\n",
    "    return list(filter(fun, files))\n",
    "\n",
    "def convert_16bytes_to_float(array, exponents=10):\n",
    "    return (np.ascontiguousarray(array).view(dtype=np.int16) / (2 ** exponents)).squeeze()\n",
    "\n",
    "def decode(data):  # decode raw sensor txt files\n",
    "    sensordata = data[~data.iloc[:,0].str.startswith(\"[\")].to_numpy().astype(np.float32).astype(np.uint8)\n",
    "\n",
    "    data_dict = {'accX': convert_16bytes_to_float(sensordata[:,0:2]), 'accY': convert_16bytes_to_float(sensordata[:,2:4]), 'accZ': convert_16bytes_to_float(sensordata[:,4:6]), 'angX': convert_16bytes_to_float(sensordata[:,6:8]), 'angY': convert_16bytes_to_float(sensordata[:,8:10]), 'angZ': convert_16bytes_to_float(sensordata[:,10:12])}\n",
    "    new_data = pd.DataFrame(data=data_dict)\n",
    "    new_data['acc_scala'] = (new_data['accY'] ** 2 + new_data['accX'] ** 2 + new_data['accZ'] ** 2).apply(np.sqrt)[:].rolling(3, min_periods=1, center=True).mean()\n",
    "    new_data['ang_scala'] = (new_data['angY'] ** 2 + new_data['angX'] ** 2 + new_data['angZ'] ** 2).apply(np.sqrt)[:].rolling(3, min_periods=1, center=True).mean()\n",
    "    \n",
    "    return new_data\n",
    "\n",
    "def save_files(data, file_name, save_path):\n",
    "    data.to_csv(save_path + file_name + '.txt', header=False, index=False)\n",
    "\n",
    "def sampling(data, sampling_num):\n",
    "    sampled_data = []\n",
    "    data_col=data.columns\n",
    "    data=data.to_numpy()\n",
    "    for row in range(0, len(data), sampling_num):\n",
    "        if row + sampling_num > len(data):\n",
    "            extra_row = row + sampling_num - len(data)\n",
    "            sampled_data.append(np.mean(data[row:row+extra_row],axis=0))\n",
    "        else:\n",
    "            sampled_data.append(np.mean(data[row:row+sampling_num,:],axis=0))        \n",
    "    return pd.DataFrame(sampled_data,columns=data_col)"
   ]
  },
  {
   "cell_type": "markdown",
   "metadata": {},
   "source": [
    "# Augment Functions"
   ]
  },
  {
   "cell_type": "markdown",
   "metadata": {},
   "source": [
    "explanation how to use 'aug_module' function\n",
    "\n",
    "-parameters-\n",
    "- exercise : exercise name to augment\n",
    "- aug_num : number of augment\n",
    "- aug_mode : select augmentation methods (raw, split, warping, noise)"
   ]
  },
  {
   "cell_type": "code",
   "execution_count": 6,
   "metadata": {},
   "outputs": [],
   "source": [
    "def augment_module(dir_path, save_path, exercise, aug_num, aug_reps=0, aug_mode='raw'):\n",
    "    \n",
    "    files = getfiles(dir_path)\n",
    "    files = list(filter(lambda x: exercise in x , files)) # get specific exercise files\n",
    "    \n",
    "    if aug_mode == 'raw':\n",
    "        for i in range(aug_num):\n",
    "            file = random.choice(files)  # randomly select raw sensor data\n",
    "            no_aug(dir_path, save_path, file)  # raw data sampling\n",
    "\n",
    "    elif aug_mode == 'noise':\n",
    "        for i in range(aug_num):\n",
    "            file = random.choice(files)  # randomly select raw sensor data\n",
    "            noise(dir_path, save_path, file)  # multiply and add noise\n",
    "\n",
    "    elif aug_mode == 'warping':\n",
    "        for i in range(aug_num):\n",
    "            file = random.choice(files)  # randomly select raw sensor data\n",
    "            time_warping(dir_path, save_path, file)\n",
    "            \n",
    "    elif aug_mode == 'split':\n",
    "        # split : split based on workout border\n",
    "        # split_merge : split data two parts based on workout border and merge them\n",
    "        # permute : get permutations  that based on workout borders, and then data rearrangement \n",
    "        split_mode = ['split', 'split_merge', 'permute']\n",
    "        for i in range(aug_num):\n",
    "            file = random.choice(files)  # randomly select raw sensor data\n",
    "            mode = random.choice(split_mode)  # randomly select split mode\n",
    "            \n",
    "            if mode == 'permute':\n",
    "                permute(dir_path, save_path, file)\n",
    "            elif mode == 'split':\n",
    "                split(dir_path, save_path, file)\n",
    "            elif mode == 'split_merge':\n",
    "                split_merge(dir_path, save_path, file)\n",
    "    \n",
    "    elif aug_mode == 'reps_variation':\n",
    "        files = getfiles(dir_path)\n",
    "\n",
    "        if exercise != 'any':\n",
    "            files = list(filter(lambda x: exercise in x , files))  # get specific exercise files\n",
    "\n",
    "        if aug_reps == 8:\n",
    "            files = list(filter(lambda x: int(x.split('_')[-1][0]) == 8 , files))\n",
    "            for i in range(aug_num):\n",
    "                file = random.choice(files)\n",
    "                permute(dir_path, save_path, file)\n",
    "        \n",
    "        else:\n",
    "            for i in range(aug_num):\n",
    "                files = list(filter(lambda x: int(x.split('_')[-1][0]) > aug_reps, files))  # get specific exercise files\n",
    "                file = random.choice(files)\n",
    "                split_variation(dir_path, save_path, file, aug_reps)"
   ]
  },
  {
   "cell_type": "code",
   "execution_count": 7,
   "metadata": {},
   "outputs": [],
   "source": [
    "def no_aug(dir_path, save_path, file): \n",
    "    data = pd.read_csv(dir_path + file, index_col=None, skiprows=[0], header=None)\n",
    "    data.to_csv(save_path + file[:-4] + '_' + str(random.randint(0,10000)) +'_raw.txt', header=False, index=False)  # save raw data\n",
    "\n",
    "\n",
    "def noise(dir_path, save_path, file):  \n",
    "    data = pd.read_csv(dir_path + file, index_col=None, skiprows=[0], header=None)\n",
    "    \n",
    "    data = decode(data)\n",
    "    \n",
    "    data *= torch.normal(torch.tensor(1), torch.tensor(0.1), size=(1, 1)).item()\n",
    "    data += torch.normal(torch.tensor(0), torch.tensor(1), size=(1, 1)).item()\n",
    "    \n",
    "    data.to_csv(save_path + file[:-4] +'_' + str(random.randint(0,10000)) + '_noise.txt', header=False, index=False)  # save noise augmented data\n",
    "\n",
    "\n",
    "def time_warping(dir_path, save_path, file):    \n",
    "    warping_lst = list(np.arange(55) + 18)  # 0.5 ~ 2 scaling divided by 36\n",
    "    warp_ratio = random.choice(warping_lst)  # randomly select warping ratio\n",
    "\n",
    "    data = pd.read_csv(dir_path + file, index_col=None, skiprows=[0], header=None)[:-1]\n",
    "    data = data[~data.iloc[:,0].str.startswith(\"[\")]\n",
    "    decoded_data = decode(data)\n",
    "\n",
    "    tmp = decoded_data.iloc[np.repeat(np.arange(len(decoded_data)), warp_ratio)].astype(int)\n",
    "    warped_data = tmp.groupby(np.arange(len(tmp))//36).mean().astype(int)\n",
    "\n",
    "    if len(data) <= 6000:  # augmented data lenghts must shorter than max_length(6000)\n",
    "        # save time warp augmented data\n",
    "        warped_data.to_csv(save_path + file[:-4] +'_' +  str(random.randint(0,10000)) + '_warping.txt', header=False, index=False)  \n",
    "\n",
    "\n",
    "def permute(dir_path, save_path, file):\n",
    "    data = pd.read_csv(dir_path + file, index_col=None, skiprows=[0], header=None)\n",
    "    workout_borders = data[data.iloc[:,0].str.startswith(\"[Workout\")][0]\n",
    "    \n",
    "    permute = list(permutations(range(int(file.split('_')[-1][0]))))\n",
    "    permute = random.choice(permute)\n",
    "    lst = [data.iloc[:workout_borders.index[0],:]]\n",
    "\n",
    "    for i in permute:\n",
    "        if i != len(permute)-1:\n",
    "            lst.append(data.iloc[workout_borders.index[i*2]:workout_borders.index[i*2+2],:])\n",
    "        else:\n",
    "            lst.append(data.iloc[workout_borders.index[i*2]:,:])\n",
    "    \n",
    "    new = pd.concat(lst)\n",
    "\n",
    "    # save permute augmented data\n",
    "    new.to_csv(save_path + file[:-4] + '_' + str(random.randint(0,10000)) + '_permute.txt', header=False, index=False)  \n",
    "\n",
    "\n",
    "def split(dir_path, save_path, file):\n",
    "    data = pd.read_csv(dir_path + file, index_col=None, skiprows=[0], header=None)\n",
    "    workout_borders = data[data.iloc[:,0].str.startswith(\"[Workout\")][0]\n",
    "\n",
    "    reps = int(file.split('_')[-1][0])\n",
    "        \n",
    "    for i in range(2, reps):\n",
    "        new_data = data.iloc[:workout_borders.index[i*2]]\n",
    "\n",
    "        # save split augmented data\n",
    "        new_data.to_csv(save_path + file[:-5] + str(i) + '_' + str(random.randint(0,10000)) + '_split.txt' , header=False, index=False)\n",
    "\n",
    "\n",
    "def split_merge(dir_path, save_path, file):\n",
    "    data = pd.read_csv(dir_path + file, index_col=None, skiprows=[0], header=None)\n",
    "    workout_borders = data[data.iloc[:,0].str.startswith(\"[Workout\")][0]\n",
    "    \n",
    "    reps1 = random.randint(1, len(workout_borders) // 2 - 1)\n",
    "    reps2 = random.randint(1, len(workout_borders) // 2 - 1)\n",
    "    \n",
    "    split_data1 = data.iloc[: workout_borders.index[reps1 * 2]]\n",
    "    split_data2 = data.iloc[: workout_borders.index[reps2 * 2]]\n",
    "\n",
    "    # merge two split data\n",
    "    if reps1 + reps2 < 9:\n",
    "        merged_data = pd.concat([split_data1, split_data2])\n",
    "\n",
    "        # save merged data\n",
    "        merged_data.to_csv(save_path + file[:-5] + str(reps1 + reps2) + '_' + str(random.randint(0,10000)) + '_merge.txt' , header=False, index=False)\n",
    "\n",
    "\n",
    "def split_variation(dir_path, save_path, file, aug_reps):\n",
    "    data = pd.read_csv(dir_path + file, index_col=None, skiprows=[0], header=None)\n",
    "    workout_borders = data[data.iloc[:,0].str.startswith(\"[Workout\")][0]\n",
    "\n",
    "    reps = int(file.split('_')[-1][0])\n",
    "    \n",
    "    if reps != aug_reps:\n",
    "        \n",
    "        new_data = data.iloc[:workout_borders.index[aug_reps*2]]\n",
    "\n",
    "        # save split augmented data\n",
    "        new_data.to_csv(save_path + file[:-5] + str(aug_reps) + '_' + str(random.randint(0,10000)) + '_splitvariaton.txt' , header=False, index=False)"
   ]
  },
  {
   "cell_type": "markdown",
   "metadata": {},
   "source": [
    "# Data to torch"
   ]
  },
  {
   "cell_type": "code",
   "execution_count": 8,
   "metadata": {},
   "outputs": [],
   "source": [
    "import torch\n",
    "import numpy as np\n",
    "import pickle\n",
    "\n",
    "def find_class(file):\n",
    "    if 'squat' in file:\n",
    "        return 0\n",
    "    elif 'pushup' in file:\n",
    "        return 1\n",
    "    elif 'pullup' in file:\n",
    "        return 2\n",
    "    elif 'situp' in file:\n",
    "        return 3\n",
    "    elif 'deadlift' in file:\n",
    "        return 4"
   ]
  },
  {
   "cell_type": "code",
   "execution_count": 9,
   "metadata": {},
   "outputs": [],
   "source": [
    "def save_torch(dir_path, save_path, num, decoding=True):\n",
    "    \n",
    "    max_len = 60\n",
    "    files = os.listdir(dir_path)\n",
    "\n",
    "    max_len_list = []\n",
    "    label = []\n",
    "    count = []\n",
    "    \n",
    "    files = getfiles(dir_path)\n",
    "    random.shuffle(files)\n",
    "    for file in tqdm(files[:num], desc='make squence'):\n",
    "        if '.ipynb' in file:\n",
    "            continue\n",
    "        \n",
    "        data = pd.read_csv(dir_path + file, index_col=None, skiprows=[0], header=None)\n",
    "        \n",
    "        if decoding and 'warping' not in file and 'noise' not in file:\n",
    "            data = decode(data.astype(str))\n",
    "        \n",
    "        # smoothing\n",
    "        data = data.rolling(10).mean()\n",
    "        \n",
    "        # sampling\n",
    "        data = sampling(data, sampling_num=10)\n",
    "\n",
    "        # normalization\n",
    "        data = (data - data.mean())/data.std()  \n",
    "        if data.isnull().values.any():\n",
    "            data = data.fillna(0)\n",
    "        seq_list = []\n",
    "\n",
    "        if len(data) < max_len * 10:\n",
    "            pad = pd.DataFrame(np.zeros((max_len * 10 - len(data), 8)),columns=data.columns)\n",
    "            cat_df = pd.concat([data, pad], axis=0).reset_index()\n",
    "            cat_df = cat_df.drop(['index'], axis=1)\n",
    "            \n",
    "            for i in range(60):  # make sequence data\n",
    "                seq_list.append(torch.tensor(np.array(cat_df.iloc[i*10 : i*10 + 10,:])))\n",
    "\n",
    "            max_len_list.append(torch.stack(seq_list))\n",
    "            label.append(torch.tensor(find_class(file)))\n",
    "            count.append(torch.tensor(int(file.split('_')[1][0])))\n",
    "\n",
    "    x_data = torch.stack(max_len_list).float()\n",
    "    y_label = torch.stack(label).float()\n",
    "    y_count = torch.stack(count).float()\n",
    "    \n",
    "    # save\n",
    "    if mode == 'train':\n",
    "        with open(save_path + dir_path.split('/')[-2] + '.pickle.pkl', 'wb') as f:  \n",
    "            pickle.dump([x_data, y_label, y_count], f)\n",
    "    else:\n",
    "        with open(save_path + 'test.pickle.pkl', 'wb') as f:  \n",
    "            pickle.dump([x_data, y_label, y_count], f)\n"
   ]
  },
  {
   "cell_type": "markdown",
   "metadata": {},
   "source": [
    "# Main code"
   ]
  },
  {
   "cell_type": "code",
   "execution_count": 10,
   "metadata": {},
   "outputs": [],
   "source": [
    "exercist_list = ['deadlift', 'pullup', 'situp', 'pushup', 'squat']"
   ]
  },
  {
   "cell_type": "code",
   "execution_count": 11,
   "metadata": {},
   "outputs": [],
   "source": [
    "src_path = './raw_train/'  # raw sensordata for train\n",
    "trg_path = './augmented_txt/' # target path to save augmented data"
   ]
  },
  {
   "cell_type": "markdown",
   "metadata": {},
   "source": [
    "make augmented data\n",
    "- aug_num : number of augment\n",
    "- aug_mode : 'raw', 'split, 'warping', 'noise"
   ]
  },
  {
   "cell_type": "code",
   "execution_count": 29,
   "metadata": {},
   "outputs": [],
   "source": [
    "# select augmentation mode [raw, split, warping, noise]\n",
    "for exer in exercist_list:\n",
    "    augment_module(dir_path=src_path, save_path=trg_path + 'raw/', exercise=exer, aug_num=6100, aug_mode='raw')\n",
    "    augment_module(dir_path=src_path, save_path=trg_path + 'warping/', exercise=exer, aug_num=6100, aug_mode='warping')\n",
    "    augment_module(dir_path=src_path, save_path=trg_path + 'noise/', exercise=exer, aug_num=6100, aug_mode='noise')\n",
    "    augment_module(dir_path=src_path, save_path=trg_path + 'split/', exercise=exer, aug_num=4500, aug_mode='split')"
   ]
  },
  {
   "cell_type": "markdown",
   "metadata": {},
   "source": [
    "adjusting data's exercise or reps distributions\n",
    "- aug_num : number of augment\n",
    "- aug_reps : number of augmenting that specific reps\n",
    "- aug_mode : 'reps_variation'\n",
    "\n",
    "options)    \n",
    "    \n",
    "Augment specific exercise : exercise = 'exercise_name'  \n",
    "  \n",
    "Augment unspecific exercise : exercise= 'any'  "
   ]
  },
  {
   "cell_type": "code",
   "execution_count": 38,
   "metadata": {},
   "outputs": [],
   "source": [
    "augment_module(dir_path=src_path, save_path=trg_path + 'split/', exercise='any', aug_num=5000, aug_reps=8, aug_mode='reps_variation')\n",
    "augment_module(dir_path=src_path, save_path=trg_path + 'split/', exercise='any', aug_num=4000, aug_reps=7, aug_mode='reps_variation')\n",
    "augment_module(dir_path=src_path, save_path=trg_path + 'split/', exercise='any', aug_num=2500, aug_reps=6, aug_mode='reps_variation')\n",
    "augment_module(dir_path=src_path, save_path=trg_path + 'split/', exercise='any', aug_num=2000, aug_reps=5, aug_mode='reps_variation')"
   ]
  },
  {
   "cell_type": "code",
   "execution_count": 12,
   "metadata": {},
   "outputs": [],
   "source": [
    "def copy_files(dir_path, save_path, num):\n",
    "       files = getfiles(dir_path)\n",
    "       random.shuffle(files)\n",
    "       \n",
    "       for i in range(num):\n",
    "              shutil.copy(dir_path + files[i], save_path)"
   ]
  },
  {
   "cell_type": "code",
   "execution_count": 13,
   "metadata": {},
   "outputs": [],
   "source": [
    "dir_paths = [trg_path + 'raw/', trg_path + 'noise/', trg_path + 'split/', trg_path + 'warping/']"
   ]
  },
  {
   "cell_type": "code",
   "execution_count": 15,
   "metadata": {},
   "outputs": [],
   "source": [
    "# copy from augmented data to all directory\n",
    "for path in dir_paths:\n",
    "    copy_files(path, trg_path + 'all/', 10000)"
   ]
  },
  {
   "cell_type": "code",
   "execution_count": 17,
   "metadata": {},
   "outputs": [
    {
     "name": "stdout",
     "output_type": "stream",
     "text": [
      "raw : 30320\n",
      "split_merge : 50847\n",
      "time_warping : 30326\n",
      "noise_injection : 30330\n",
      "all_permuted : 40000\n"
     ]
    }
   ],
   "source": [
    "# check data length\n",
    "path = 'augmented_txt/'\n",
    "print('raw :', len(getfiles(path + 'raw/')))\n",
    "print('split_merge :', len(getfiles(path + 'split/')))\n",
    "print('time_warping :', len(getfiles(path + 'warping/')))\n",
    "print('noise_injection :', len(getfiles(path + 'noise/')))\n",
    "print('all_permuted :', len(getfiles(path + 'all/')))"
   ]
  },
  {
   "cell_type": "markdown",
   "metadata": {},
   "source": [
    "# Data Aggregation"
   ]
  },
  {
   "cell_type": "code",
   "execution_count": 20,
   "metadata": {},
   "outputs": [],
   "source": [
    "def get_class_distribution(files, class_dict):\n",
    "    for file in files:\n",
    "        if '.ipynb' not in file:\n",
    "            if 'squat' in file:\n",
    "                class_dict['squat'] += 1\n",
    "            elif 'pushup' in file:\n",
    "                class_dict['pushup'] += 1\n",
    "            elif 'pullup' in file:\n",
    "                class_dict['pullup'] += 1\n",
    "            elif 'situp' in file:\n",
    "                class_dict['situp'] += 1\n",
    "            elif 'deadlift' in file:\n",
    "                class_dict['deadlift'] += 1\n",
    "    return class_dict\n",
    "\n",
    "def get_reps_distribution(files, reps_dict):\n",
    "    for file in files:\n",
    "        if '.ipynb' not in file:\n",
    "            reps = int(file.split('_')[1][0])\n",
    "            if reps == 2:\n",
    "                reps_dict['2reps'] += 1\n",
    "            elif reps == 3:\n",
    "                reps_dict['3reps'] += 1\n",
    "            elif reps == 4:\n",
    "                reps_dict['4reps'] += 1\n",
    "            elif reps == 5:\n",
    "                reps_dict['5reps'] += 1\n",
    "            elif reps == 6:\n",
    "                reps_dict['6reps'] += 1\n",
    "            elif reps == 7:\n",
    "                reps_dict['7reps'] += 1\n",
    "            elif reps == 8:\n",
    "                reps_dict['8reps'] += 1\n",
    "    return reps_dict"
   ]
  },
  {
   "cell_type": "code",
   "execution_count": 21,
   "metadata": {},
   "outputs": [],
   "source": [
    "### get train data\n",
    "train_raw = getfiles('augmented_txt/raw/')\n",
    "train_raw_noi = getfiles('./augmented_txt/noise/')\n",
    "train_raw_sp = getfiles('./augmented_txt/split/')\n",
    "train_raw_tw = getfiles('./augmented_txt/warping/')\n",
    "train_raw_all = getfiles('./augmented_txt/all/')\n",
    "\n",
    "### get test data\n",
    "test_raw = getfiles('./raw_test/')\n",
    "\n",
    "# class dict\n",
    "train_raw_class_dict = {'squat': 0, 'pushup': 0, 'pullup': 0, 'situp': 0, 'deadlift': 0}\n",
    "train_raw_noi_dict = train_raw_class_dict.copy()\n",
    "train_raw_sp_dict = train_raw_class_dict.copy()\n",
    "train_raw_tw_dict = train_raw_class_dict.copy()\n",
    "train_raw_all_dict = train_raw_class_dict.copy()\n",
    "\n",
    "test_raw_dict = train_raw_class_dict.copy()\n",
    "\n",
    "# reps dict\n",
    "train_raw_reps_dict = {'2reps': 0, '3reps': 0, '4reps': 0, '5reps': 0, '6reps': 0, '7reps' : 0, '8reps' :0}\n",
    "train_raw_noi_reps_dict = train_raw_reps_dict.copy()\n",
    "train_raw_sp_reps_dict = train_raw_reps_dict.copy()\n",
    "train_raw_tw_reps_dict = train_raw_reps_dict.copy()\n",
    "train_raw_all_reps_dict = train_raw_reps_dict.copy()\n",
    "\n",
    "test_raw_reps_dict = train_raw_reps_dict.copy()\n",
    "\n",
    "# class files & dicts\n",
    "list_of_files_class = [train_raw, train_raw_noi, train_raw_sp, train_raw_tw, train_raw_all, test_raw]\n",
    "list_of_dicts_class = [train_raw_class_dict, train_raw_noi_dict, train_raw_sp_dict, train_raw_tw_dict, train_raw_all_dict, test_raw_dict]\n",
    "\n",
    "# reps files & dicts\n",
    "list_of_files_reps = [train_raw, train_raw_noi, train_raw_sp, train_raw_tw, train_raw_all, test_raw]\n",
    "list_of_dicts_reps = [train_raw_reps_dict, train_raw_noi_reps_dict, train_raw_sp_reps_dict, train_raw_tw_reps_dict, train_raw_all_reps_dict, test_raw_reps_dict]\n",
    "\n",
    "for i, items in enumerate(zip(list_of_files_class, list_of_dicts_class, list_of_files_reps, list_of_dicts_reps)):\n",
    "    # print(len(items[0]))\n",
    "    list_of_dicts_class[i] = get_class_distribution(items[0], items[1])\n",
    "    list_of_dicts_reps[i] = get_reps_distribution(items[2], items[3])"
   ]
  },
  {
   "cell_type": "markdown",
   "metadata": {},
   "source": [
    "### Class distribution"
   ]
  },
  {
   "cell_type": "code",
   "execution_count": 22,
   "metadata": {},
   "outputs": [
    {
     "data": {
      "image/png": "[encoded data removed]",
      "text/plain": [
       "<Figure size 432x288 with 6 Axes>"
      ]
     },
     "metadata": {
      "needs_background": "light"
     },
     "output_type": "display_data"
    }
   ],
   "source": [
    "class_dict = list_of_dicts_class[0]\n",
    "\n",
    "label = list(class_dict.keys())\n",
    "index = np.arange(len(label))\n",
    "\n",
    "# Basic Bar Chart\n",
    "plt.subplot(2,3,1)\n",
    "plt.barh(label, list_of_dicts_class[0].values())\n",
    "plt.title('raw train', fontsize=18)\n",
    "\n",
    "plt.subplot(2,3,2)\n",
    "plt.barh(label, list_of_dicts_class[1].values())\n",
    "plt.title('raw + noise', fontsize=18)\n",
    "\n",
    "plt.subplot(2,3,3)\n",
    "plt.barh(label, list_of_dicts_class[2].values())\n",
    "plt.title('raw + split', fontsize=18)\n",
    "\n",
    "plt.subplot(2,3,4)\n",
    "plt.barh(label, list_of_dicts_class[3].values())\n",
    "plt.title('raw + time_warping', fontsize=18)\n",
    "\n",
    "plt.subplot(2,3,5)\n",
    "plt.barh(label, list_of_dicts_class[4].values())\n",
    "plt.title('raw + all', fontsize=18)\n",
    "\n",
    "plt.subplot(2,3,6)\n",
    "plt.barh(label, list_of_dicts_class[5].values())\n",
    "plt.title('test set', fontsize=18)\n",
    "\n",
    "# plt.tight_layout()\n",
    "plt.subplots_adjust(left=0.2, bottom=0.1, right=2.0, top=1.2, wspace=0.4, hspace=0.3)\n",
    "plt.show()"
   ]
  },
  {
   "cell_type": "markdown",
   "metadata": {},
   "source": [
    "### Reps distribution"
   ]
  },
  {
   "cell_type": "code",
   "execution_count": 23,
   "metadata": {},
   "outputs": [
    {
     "data": {
      "image/png": "[encoded data removed]",
      "text/plain": [
       "<Figure size 432x288 with 6 Axes>"
      ]
     },
     "metadata": {
      "needs_background": "light"
     },
     "output_type": "display_data"
    }
   ],
   "source": [
    "label = list(train_raw_reps_dict.keys())\n",
    "index = np.arange(len(label))\n",
    "\n",
    "# Basic Bar Chart\n",
    "plt.subplot(2,3,1)\n",
    "plt.barh(label, list_of_dicts_reps[0].values())\n",
    "plt.title('raw train', fontsize=18)\n",
    "\n",
    "plt.subplot(2,3,2)\n",
    "plt.barh(label, list_of_dicts_reps[1].values())\n",
    "plt.title('raw + noise', fontsize=18)\n",
    "\n",
    "plt.subplot(2,3,3)\n",
    "plt.barh(label, list_of_dicts_reps[2].values())\n",
    "plt.title('raw + split', fontsize=18)\n",
    "\n",
    "plt.subplot(2,3,4)\n",
    "plt.barh(label, list_of_dicts_reps[3].values())\n",
    "plt.title('raw + time_warping', fontsize=18)\n",
    "\n",
    "plt.subplot(2,3,5)\n",
    "plt.barh(label, list_of_dicts_reps[4].values())\n",
    "plt.title('raw + all', fontsize=18)\n",
    "\n",
    "plt.subplot(2,3,6)\n",
    "plt.barh(label, list_of_dicts_reps[5].values())\n",
    "plt.title('test set', fontsize=18)\n",
    "\n",
    "# plt.tight_layout()\n",
    "plt.subplots_adjust(left=0.2, bottom=0.1, right=2.0, top=1.2, wspace=0.4, hspace=0.3)\n",
    "plt.show()"
   ]
  },
  {
   "cell_type": "markdown",
   "metadata": {},
   "source": [
    "### Save_torch for train dataset"
   ]
  },
  {
   "cell_type": "code",
   "execution_count": 24,
   "metadata": {},
   "outputs": [],
   "source": [
    "save_path_train = 'train_torch/'\n",
    "save_path_test = 'test_torch/'"
   ]
  },
  {
   "cell_type": "code",
   "execution_count": 25,
   "metadata": {},
   "outputs": [],
   "source": [
    "train_raw = getfiles('augmented_txt/raw/')\n",
    "train_raw_noise = getfiles('augmented_txt/noise/')\n",
    "train_raw_split = getfiles('augmented_txt/split/')\n",
    "train_raw_warping = getfiles('augmented_txt/warping/')\n",
    "train_raw_all = getfiles('augmented_txt/all/')"
   ]
  },
  {
   "cell_type": "code",
   "execution_count": 26,
   "metadata": {},
   "outputs": [
    {
     "name": "stdout",
     "output_type": "stream",
     "text": [
      "30320\n",
      "30330\n",
      "50847\n",
      "30326\n",
      "40000\n"
     ]
    }
   ],
   "source": [
    "print(len(train_raw))\n",
    "print(len(train_raw_noise))\n",
    "print(len(train_raw_split))\n",
    "print(len(train_raw_warping))\n",
    "print(len(train_raw_all))"
   ]
  },
  {
   "cell_type": "code",
   "execution_count": 27,
   "metadata": {},
   "outputs": [],
   "source": [
    "src_path = 'augmented_txt/'"
   ]
  },
  {
   "cell_type": "code",
   "execution_count": 50,
   "metadata": {},
   "outputs": [
    {
     "name": "stderr",
     "output_type": "stream",
     "text": [
      "make squence: 100%|██████████| 30000/30000 [14:45<00:00, 33.88it/s]\n"
     ]
    }
   ],
   "source": [
    "save_torch(src_path + 'raw/', save_path_train, 30000)\n",
    "save_torch(src_path + 'noise/', save_path_train, 30000, decoding=False)\n",
    "save_torch(src_path + 'split/', save_path_train, 30000)\n",
    "save_torch(src_path + 'warping/', save_path_train, 30000, decoding=False)\n",
    "save_torch(src_path + 'all/', save_path_train, 30000)"
   ]
  },
  {
   "cell_type": "markdown",
   "metadata": {},
   "source": [
    "### Save_torch for test dataset"
   ]
  },
  {
   "cell_type": "code",
   "execution_count": 54,
   "metadata": {},
   "outputs": [
    {
     "data": {
      "text/plain": [
       "108"
      ]
     },
     "execution_count": 54,
     "metadata": {},
     "output_type": "execute_result"
    }
   ],
   "source": [
    "len(getfiles('raw_test/'))"
   ]
  },
  {
   "cell_type": "code",
   "execution_count": 55,
   "metadata": {},
   "outputs": [
    {
     "name": "stderr",
     "output_type": "stream",
     "text": [
      "make squence: 100%|██████████| 108/108 [00:04<00:00, 24.85it/s]\n"
     ]
    }
   ],
   "source": [
    "save_torch('./raw_test/', save_path_test, 157)"
   ]
  },
  {
   "cell_type": "markdown",
   "metadata": {},
   "source": [
    "### Plot torch data"
   ]
  },
  {
   "cell_type": "code",
   "execution_count": 56,
   "metadata": {},
   "outputs": [],
   "source": [
    "import pickle\n",
    "import matplotlib.pyplot as plt"
   ]
  },
  {
   "cell_type": "code",
   "execution_count": 57,
   "metadata": {},
   "outputs": [],
   "source": [
    "with open('train_torch/raw.pickle.pkl', 'rb') as f:  \n",
    "    x_data, y_label, y_count = pickle.load(f)"
   ]
  },
  {
   "cell_type": "code",
   "execution_count": 58,
   "metadata": {},
   "outputs": [
    {
     "data": {
      "text/plain": [
       "torch.Size([10000, 60, 10, 8])"
      ]
     },
     "execution_count": 58,
     "metadata": {},
     "output_type": "execute_result"
    }
   ],
   "source": [
    "x_data.shape"
   ]
  },
  {
   "cell_type": "code",
   "execution_count": 59,
   "metadata": {},
   "outputs": [],
   "source": [
    "x_data_reshaped = x_data[2].reshape(-1, 8).permute(1, 0)"
   ]
  },
  {
   "cell_type": "code",
   "execution_count": 60,
   "metadata": {},
   "outputs": [
    {
     "data": {
      "text/plain": [
       "[<matplotlib.lines.Line2D at 0x7f61548d55e0>]"
      ]
     },
     "execution_count": 60,
     "metadata": {},
     "output_type": "execute_result"
    },
    {
     "data": {
      "image/png": "[encoded data removed]",
      "text/plain": [
       "<Figure size 432x288 with 1 Axes>"
      ]
     },
     "metadata": {
      "needs_background": "light"
     },
     "output_type": "display_data"
    }
   ],
   "source": [
    "plt.plot(x_data_reshaped[2])"
   ]
  },
  {
   "cell_type": "markdown",
   "metadata": {},
   "source": [
    "### rolling average test"
   ]
  },
  {
   "cell_type": "code",
   "execution_count": 61,
   "metadata": {},
   "outputs": [],
   "source": [
    "files = getfiles('raw_test/')"
   ]
  },
  {
   "cell_type": "code",
   "execution_count": 62,
   "metadata": {},
   "outputs": [
    {
     "data": {
      "text/plain": [
       "302"
      ]
     },
     "execution_count": 62,
     "metadata": {},
     "output_type": "execute_result"
    }
   ],
   "source": [
    "len(files)"
   ]
  },
  {
   "cell_type": "code",
   "execution_count": 63,
   "metadata": {},
   "outputs": [],
   "source": [
    "data = pd.read_csv('raw_test/' + files[0], index_col=None, skiprows=[0], header=None)"
   ]
  },
  {
   "cell_type": "code",
   "execution_count": 64,
   "metadata": {},
   "outputs": [
    {
     "name": "stdout",
     "output_type": "stream",
     "text": [
      "           accX      accY      accZ  angX      angY      angZ  acc_scala  \\\n",
      "0     14.055664  5.785156 -7.726562   0.0  0.627930  0.106445  17.125131   \n",
      "1     14.136719  5.807617 -7.889648   0.0  0.625000  0.106445  17.184975   \n",
      "2     14.078125  5.855469 -8.183594   0.0  0.624023  0.162109  17.336271   \n",
      "3     13.825195  6.648438 -8.430664   0.0  0.649414  0.203125  17.507562   \n",
      "4     13.826172  7.043945 -8.542969   0.0  0.551758  0.152344  17.585700   \n",
      "...         ...       ...       ...   ...       ...       ...        ...   \n",
      "1890  13.108398  7.282227 -7.203125   0.0 -0.016602  0.001953  16.644583   \n",
      "1891  13.066406  7.328125 -7.248047   0.0 -0.027344 -0.023438  16.638042   \n",
      "1892  13.107422  7.268555 -7.219727   0.0 -0.025391 -0.034180  16.618936   \n",
      "1893  13.035156  7.249023 -7.237305   0.0 -0.020508 -0.041992  16.589041   \n",
      "1894  12.980469  7.303711 -7.221680   0.0 -0.013672 -0.041992  16.565496   \n",
      "\n",
      "      ang_scala  \n",
      "0      0.635444  \n",
      "1      0.638541  \n",
      "2      0.653059  \n",
      "3      0.632526  \n",
      "4      0.560808  \n",
      "...         ...  \n",
      "1890   0.019330  \n",
      "1891   0.031769  \n",
      "1892   0.041775  \n",
      "1893   0.044491  \n",
      "1894   0.045447  \n",
      "\n",
      "[1895 rows x 8 columns]\n"
     ]
    }
   ],
   "source": [
    "decoded_data = decode(data)\n",
    "print(decoded_data)"
   ]
  },
  {
   "cell_type": "code",
   "execution_count": 65,
   "metadata": {},
   "outputs": [
    {
     "data": {
      "image/png": "[encoded data removed]",
      "text/plain": [
       "<Figure size 432x288 with 1 Axes>"
      ]
     },
     "metadata": {
      "needs_background": "light"
     },
     "output_type": "display_data"
    },
    {
     "name": "stdout",
     "output_type": "stream",
     "text": [
      "1895\n",
      "1895\n"
     ]
    },
    {
     "data": {
      "image/png": "[encoded data removed]",
      "text/plain": [
       "<Figure size 432x288 with 1 Axes>"
      ]
     },
     "metadata": {
      "needs_background": "light"
     },
     "output_type": "display_data"
    }
   ],
   "source": [
    "decoded_data['acc_scala'].plot()\n",
    "plt.title('before rolling average', fontsize=18)\n",
    "plt.show()\n",
    "print(len(decoded_data))\n",
    "\n",
    "rolled_data = decoded_data.rolling(10).mean()\n",
    "rolled_data['acc_scala'].plot()\n",
    "plt.title('after rolling average', fontsize=18)\n",
    "print(len(decoded_data['acc_scala'].rolling(10).mean()))"
   ]
  },
  {
   "cell_type": "code",
   "execution_count": 67,
   "metadata": {},
   "outputs": [],
   "source": [
    "sampled_data = sampling(rolled_data, 10)"
   ]
  },
  {
   "cell_type": "code",
   "execution_count": 68,
   "metadata": {},
   "outputs": [
    {
     "data": {
      "text/plain": [
       "<AxesSubplot:>"
      ]
     },
     "execution_count": 68,
     "metadata": {},
     "output_type": "execute_result"
    },
    {
     "data": {
      "image/png": "[encoded data removed]",
      "text/plain": [
       "<Figure size 432x288 with 1 Axes>"
      ]
     },
     "metadata": {
      "needs_background": "light"
     },
     "output_type": "display_data"
    }
   ],
   "source": [
    "sampled_data['acc_scala'].plot()"
   ]
  }
 ],
 "metadata": {
  "kernelspec": {
   "display_name": "Python 3",
   "language": "python",
   "name": "python3"
  },
  "language_info": {
   "codemirror_mode": {
    "name": "ipython",
    "version": 3
   },
   "file_extension": ".py",
   "mimetype": "text/x-python",
   "name": "python",
   "nbconvert_exporter": "python",
   "pygments_lexer": "ipython3",
   "version": "3.8.10"
  }
 },
 "nbformat": 4,
 "nbformat_minor": 4
}
